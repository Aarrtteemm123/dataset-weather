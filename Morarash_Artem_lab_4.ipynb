{
  "nbformat": 4,
  "nbformat_minor": 0,
  "metadata": {
    "colab": {
      "name": "Morarash Artem lab #4",
      "provenance": [],
      "collapsed_sections": [],
      "toc_visible": true
    },
    "kernelspec": {
      "name": "python3",
      "display_name": "Python 3"
    }
  },
  "cells": [
    {
      "cell_type": "markdown",
      "metadata": {
        "id": "akfv-IpmL8ui",
        "colab_type": "text"
      },
      "source": [
        "# Ініціалізація датасету"
      ]
    },
    {
      "cell_type": "markdown",
      "metadata": {
        "id": "SLdWoQwstNgE",
        "colab_type": "text"
      },
      "source": [
        "В датасеті записана інформація про стан атмосфери в місті Єна(Німеччина).\n",
        "\n",
        "Дані взяті з https://www.kaggle.com/pankrzysiu/weather-archive-jena\n",
        "\n",
        "Columns\n",
        "\n",
        "1.   Date Time\n",
        "2.p (mbar)atmospheric pressure\n",
        "3.T (degC)temperature\n",
        "4.Tpot (K)potential temperature\n",
        "5.Tdew (degC)dew point temperature\n",
        "6.rh (%)relative humidity\n",
        "7.VPmax (mbar)saturation water vapor pressure\n",
        "8.VPact (mbar)actual water vapor pressure\n",
        "9.VPdef (mbar)water vapor pressure deficit\n",
        "10.sh (g/kg)specific humidity\n",
        "11.H2O (mmol/mol)water vapor concentration\n",
        "12.rho (g/m**3)air density\n",
        "13.wv (m/s)wind velocity\n",
        "14.max. wv (m/s)maximum \n",
        "15.wd_(deg) wind velocity"
      ]
    },
    {
      "cell_type": "code",
      "metadata": {
        "id": "hN-TxYIlsz7b",
        "colab_type": "code",
        "outputId": "12db7247-c650-4d36-ab3c-c8a6902be2c7",
        "colab": {
          "base_uri": "https://localhost:8080/",
          "height": 316
        }
      },
      "source": [
        "# підключимо бібліотеку pandas для обробки даних (вона вже встановлена в Colab)\n",
        "import pandas as pd\n",
        "\n",
        "# зазначимо url звідки ми візьмемо дані\n",
        "url = \"https://raw.githubusercontent.com/Aarrtteemm123/dataset-weather/master/jena_climate_2009_2016.csv\"\n",
        "\n",
        "# створимо pandas Dataframe з csv-файлу, який ми отримаємо по вищезазначеному url\n",
        "# Dataframe надасть нам необхідні можливості для обробки даних\n",
        "df = pd.read_csv(url)\n",
        "\n",
        "# відобразимо перші 5 записів у датафреймі (достатньо, щоб побачити структуру записів у ньому)\n",
        "df.head()"
      ],
      "execution_count": 0,
      "outputs": [
        {
          "output_type": "execute_result",
          "data": {
            "text/html": [
              "<div>\n",
              "<style scoped>\n",
              "    .dataframe tbody tr th:only-of-type {\n",
              "        vertical-align: middle;\n",
              "    }\n",
              "\n",
              "    .dataframe tbody tr th {\n",
              "        vertical-align: top;\n",
              "    }\n",
              "\n",
              "    .dataframe thead th {\n",
              "        text-align: right;\n",
              "    }\n",
              "</style>\n",
              "<table border=\"1\" class=\"dataframe\">\n",
              "  <thead>\n",
              "    <tr style=\"text-align: right;\">\n",
              "      <th></th>\n",
              "      <th>Date_Time</th>\n",
              "      <th>p_(mbar)</th>\n",
              "      <th>T_(degC)</th>\n",
              "      <th>Tpot_(K)</th>\n",
              "      <th>Tdew_(degC)</th>\n",
              "      <th>rh (%)</th>\n",
              "      <th>Vpmax_(mbar)</th>\n",
              "      <th>Vpact_(mbar)</th>\n",
              "      <th>Vpdef_(mbar)</th>\n",
              "      <th>sh_(g/kg)</th>\n",
              "      <th>H2OC_(mmol/mol)</th>\n",
              "      <th>rho_(g/m**3)</th>\n",
              "      <th>wv_(m/s)</th>\n",
              "      <th>max._wv_(m/s)</th>\n",
              "      <th>wd_(deg)</th>\n",
              "    </tr>\n",
              "  </thead>\n",
              "  <tbody>\n",
              "    <tr>\n",
              "      <th>0</th>\n",
              "      <td>01.01.2009 00:10:00</td>\n",
              "      <td>996.52</td>\n",
              "      <td>-8.02</td>\n",
              "      <td>265.40</td>\n",
              "      <td>-8.90</td>\n",
              "      <td>93.3</td>\n",
              "      <td>3.33</td>\n",
              "      <td>3.11</td>\n",
              "      <td>0.22</td>\n",
              "      <td>1.94</td>\n",
              "      <td>3.12</td>\n",
              "      <td>1307.75</td>\n",
              "      <td>1.03</td>\n",
              "      <td>1.75</td>\n",
              "      <td>152.3</td>\n",
              "    </tr>\n",
              "    <tr>\n",
              "      <th>1</th>\n",
              "      <td>01.01.2009 00:20:00</td>\n",
              "      <td>996.57</td>\n",
              "      <td>-8.41</td>\n",
              "      <td>265.01</td>\n",
              "      <td>-9.28</td>\n",
              "      <td>93.4</td>\n",
              "      <td>3.23</td>\n",
              "      <td>3.02</td>\n",
              "      <td>0.21</td>\n",
              "      <td>1.89</td>\n",
              "      <td>3.03</td>\n",
              "      <td>1309.80</td>\n",
              "      <td>0.72</td>\n",
              "      <td>1.50</td>\n",
              "      <td>136.1</td>\n",
              "    </tr>\n",
              "    <tr>\n",
              "      <th>2</th>\n",
              "      <td>01.01.2009 00:30:00</td>\n",
              "      <td>996.53</td>\n",
              "      <td>-8.51</td>\n",
              "      <td>264.91</td>\n",
              "      <td>-9.31</td>\n",
              "      <td>93.9</td>\n",
              "      <td>3.21</td>\n",
              "      <td>3.01</td>\n",
              "      <td>0.20</td>\n",
              "      <td>1.88</td>\n",
              "      <td>3.02</td>\n",
              "      <td>1310.24</td>\n",
              "      <td>0.19</td>\n",
              "      <td>0.63</td>\n",
              "      <td>171.6</td>\n",
              "    </tr>\n",
              "    <tr>\n",
              "      <th>3</th>\n",
              "      <td>01.01.2009 00:40:00</td>\n",
              "      <td>996.51</td>\n",
              "      <td>-8.31</td>\n",
              "      <td>265.12</td>\n",
              "      <td>-9.07</td>\n",
              "      <td>94.2</td>\n",
              "      <td>3.26</td>\n",
              "      <td>3.07</td>\n",
              "      <td>0.19</td>\n",
              "      <td>1.92</td>\n",
              "      <td>3.08</td>\n",
              "      <td>1309.19</td>\n",
              "      <td>0.34</td>\n",
              "      <td>0.50</td>\n",
              "      <td>198.0</td>\n",
              "    </tr>\n",
              "    <tr>\n",
              "      <th>4</th>\n",
              "      <td>01.01.2009 00:50:00</td>\n",
              "      <td>996.51</td>\n",
              "      <td>-8.27</td>\n",
              "      <td>265.15</td>\n",
              "      <td>-9.04</td>\n",
              "      <td>94.1</td>\n",
              "      <td>3.27</td>\n",
              "      <td>3.08</td>\n",
              "      <td>0.19</td>\n",
              "      <td>1.92</td>\n",
              "      <td>3.09</td>\n",
              "      <td>1309.00</td>\n",
              "      <td>0.32</td>\n",
              "      <td>0.63</td>\n",
              "      <td>214.3</td>\n",
              "    </tr>\n",
              "  </tbody>\n",
              "</table>\n",
              "</div>"
            ],
            "text/plain": [
              "             Date_Time  p_(mbar)  T_(degC)  ...  wv_(m/s)  max._wv_(m/s)  wd_(deg)\n",
              "0  01.01.2009 00:10:00    996.52     -8.02  ...      1.03           1.75     152.3\n",
              "1  01.01.2009 00:20:00    996.57     -8.41  ...      0.72           1.50     136.1\n",
              "2  01.01.2009 00:30:00    996.53     -8.51  ...      0.19           0.63     171.6\n",
              "3  01.01.2009 00:40:00    996.51     -8.31  ...      0.34           0.50     198.0\n",
              "4  01.01.2009 00:50:00    996.51     -8.27  ...      0.32           0.63     214.3\n",
              "\n",
              "[5 rows x 15 columns]"
            ]
          },
          "metadata": {
            "tags": []
          },
          "execution_count": 6
        }
      ]
    },
    {
      "cell_type": "markdown",
      "metadata": {
        "id": "3DYYADAKLwTV",
        "colab_type": "text"
      },
      "source": [
        "# Коефіцієнт кореляції Пірсона та p-рівня значимості"
      ]
    },
    {
      "cell_type": "markdown",
      "metadata": {
        "id": "6zjGv682wRsL",
        "colab_type": "text"
      },
      "source": [
        "Приклад обчислення коефіцієнта кореляції Пірсона та p-рівня значимості за двома параметрами: температури повітря та відносної вологості.\n",
        "Коефіцієнт кореляції Пірсона менший 0,а це означає що при збільшені температури відносна вологость повітря зменшується, а також існує значна залежність між цими двома величинами(це фізичний факт).\n",
        "\n",
        "P-рівень значимості показує яка частина данних не підходять під нашу гіпотезу,в нашому випадку p=0, а тому нульову гіпотезу можна відкинути(Вона протилежна до основної гіпотези і передбачає в данному випадку що залежності між температурою та вологістю немає)"
      ]
    },
    {
      "cell_type": "code",
      "metadata": {
        "id": "Q5dG7SgQtjJ7",
        "colab_type": "code",
        "outputId": "9a59aceb-be59-46e4-da38-b8db79d7735c",
        "colab": {
          "base_uri": "https://localhost:8080/",
          "height": 34
        }
      },
      "source": [
        "# Приклад обчислення коефіцієнта кореляції Пірсона та p-рівня значимості за допомогою scipy.stats\n",
        "# https://stackoverflow.com/a/52245789/8219611\n",
        "import pandas as pd \n",
        "from scipy import stats\n",
        "\n",
        "data = {'temp':df['T_(degC)'],'humidity':df['rh (%)']}\n",
        "df2 = pd.DataFrame(data, columns = ['temp','humidity'])\n",
        "pearson_coef, p_value = stats.pearsonr(df2[\"temp\"], df2[\"humidity\"])\n",
        "print(\"Pearson Correlation Coefficient: \", pearson_coef, \"and a P-value of:\", p_value)"
      ],
      "execution_count": 0,
      "outputs": [
        {
          "output_type": "stream",
          "text": [
            "Pearson Correlation Coefficient:  -0.5607062165830151 and a P-value of: 0.0\n"
          ],
          "name": "stdout"
        }
      ]
    },
    {
      "cell_type": "markdown",
      "metadata": {
        "id": "0nQ6Ltke6PGg",
        "colab_type": "text"
      },
      "source": [
        "# Приклад застосування регресії"
      ]
    },
    {
      "cell_type": "code",
      "metadata": {
        "id": "p64taeqeyGqu",
        "colab_type": "code",
        "outputId": "a5528240-55bf-4166-9f0c-bd97c669ee59",
        "colab": {
          "base_uri": "https://localhost:8080/",
          "height": 296
        }
      },
      "source": [
        "import numpy as np\n",
        "from sklearn import datasets, linear_model\n",
        "import matplotlib.pyplot as plt\n",
        "\n",
        "df['T_(degC)'].fillna(0, inplace=True)\n",
        "df['rh (%)'].fillna(0, inplace=True)\n",
        "X = df['T_(degC)'].values\n",
        "Y = df['rh (%)'].values\n",
        "X = X.reshape(df['T_(degC)'].shape[0], 1)\n",
        "Y = Y.reshape(df['rh (%)'].shape[0], 1)\n",
        "\n",
        "# Розділимо дані температури на вибірку для тренування моделі та її перевірку\n",
        "X_train = X[:95000]\n",
        "X_test = X[-5000:]\n",
        " \n",
        "# Розділимо дані по вологості на вибірку для тренування моделі та її перевірку\n",
        "Y_train = Y[:95000]\n",
        "Y_test = Y[-5000:]\n",
        "\n",
        "regr = linear_model.LinearRegression()\n",
        "regr.fit(X_train, Y_train)\n",
        "\n",
        "plt.title('Результат регресії на всьому об\\'єму даних')\n",
        "plt.xlabel('T_(degC)')\n",
        "plt.ylabel('rh (%)')\n",
        "# plot it as in the example at http://scikit-learn.org/\n",
        "plt.scatter(X, Y,  color='black')\n",
        "plt.plot(X, regr.predict(X), color='blue', linewidth=3)\n",
        "plt.show()"
      ],
      "execution_count": 0,
      "outputs": [
        {
          "output_type": "display_data",
          "data": {
            "image/png": "[encoded data removed]",
            "text/plain": [
              "<Figure size 432x288 with 1 Axes>"
            ]
          },
          "metadata": {
            "tags": []
          }
        }
      ]
    },
    {
      "cell_type": "code",
      "metadata": {
        "id": "Kap3nM8t7qHi",
        "colab_type": "code",
        "outputId": "56d0da99-f43d-49f7-e92a-fca7dc201492",
        "colab": {
          "base_uri": "https://localhost:8080/",
          "height": 296
        }
      },
      "source": [
        "plt.title('Результат регресії тестовому об\\'єму даних')\n",
        "plt.xlabel('T_(degC)')\n",
        "plt.ylabel('rh (%)')\n",
        "# plot it as in the example at http://scikit-learn.org/\n",
        "plt.scatter(X_test, Y_test,  color='black')\n",
        "plt.plot(X_test, regr.predict(X_test), color='blue', linewidth=3)\n",
        "plt.show()"
      ],
      "execution_count": 0,
      "outputs": [
        {
          "output_type": "display_data",
          "data": {
            "image/png": "[encoded data removed]",
            "text/plain": [
              "<Figure size 432x288 with 1 Axes>"
            ]
          },
          "metadata": {
            "tags": []
          }
        }
      ]
    },
    {
      "cell_type": "markdown",
      "metadata": {
        "id": "whgZbCoc8nCy",
        "colab_type": "text"
      },
      "source": [
        "# Відповіді на запитання до теми \"ЕМПІ №8-9: Кореляція та регресія v2019\"\n",
        "\n",
        "\n",
        "\n",
        "> 1.Кореляцію використовують для пошуку зв'язку між величинами,але не завжди такий зв'язок є справжнім,тому потрібно адекватно її використовувати(Н-п. не шукати залежність між ціною акцій компанії по випуску програмного забезпечення та популяцією якогось виду риби,хоча при бажанні її можна знайти)\n",
        "\n",
        "> Регресія - це форма зв'язку між випадковими величинами. Закон зміни математичного очікування однієї випадкової величини залежно від значень іншої.\n",
        "Вона показує \"напрямок\" залежності величин,їхню тенденцію."
      ]
    }
  ]
}