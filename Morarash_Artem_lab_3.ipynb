{
  "nbformat": 4,
  "nbformat_minor": 0,
  "metadata": {
    "colab": {
      "name": "Morarash Artem lab #3",
      "provenance": [],
      "collapsed_sections": []
    },
    "kernelspec": {
      "name": "python3",
      "display_name": "Python 3"
    }
  },
  "cells": [
    {
      "cell_type": "markdown",
      "metadata": {
        "id": "rl_FrhXhDwsC",
        "colab_type": "text"
      },
      "source": [
        "# Ініціалізація датасету"
      ]
    },
    {
      "cell_type": "markdown",
      "metadata": {
        "id": "k_dq-ejODC9C",
        "colab_type": "text"
      },
      "source": [
        "В датасеті записана інформація про стан атмосфери в місті Єна(Німеччина).\n",
        "\n",
        "Дані взяті з https://www.kaggle.com/pankrzysiu/weather-archive-jena\n",
        "\n",
        "Columns\n",
        "\n",
        "1.   Date Time\n",
        "2.p (mbar)atmospheric pressure\n",
        "3.T (degC)temperature\n",
        "4.Tpot (K)potential temperature\n",
        "5.Tdew (degC)dew point temperature\n",
        "6.rh (%)relative humidity\n",
        "7.VPmax (mbar)saturation water vapor pressure\n",
        "8.VPact (mbar)actual water vapor pressure\n",
        "9.VPdef (mbar)water vapor pressure deficit\n",
        "10.sh (g/kg)specific humidity\n",
        "11.H2O (mmol/mol)water vapor concentration\n",
        "12.rho (g/m**3)air density\n",
        "13.wv (m/s)wind velocity\n",
        "14.max. wv (m/s)maximum \n",
        "15.wd_(deg) wind velocity"
      ]
    },
    {
      "cell_type": "code",
      "metadata": {
        "id": "-EHOfuB-HX-t",
        "colab_type": "code",
        "outputId": "a3b114e4-5d06-4ba5-9c30-f2f867de0021",
        "colab": {
          "base_uri": "https://localhost:8080/",
          "height": 296
        }
      },
      "source": [
        "# підключимо бібліотеку pandas для обробки даних (вона вже встановлена в Colab)\n",
        "import pandas as pd\n",
        "\n",
        "# зазначимо url звідки ми візьмемо дані\n",
        "url = \"https://raw.githubusercontent.com/Aarrtteemm123/dataset-weather/master/jena_climate_2009_2016.csv\"\n",
        "\n",
        "# створимо pandas Dataframe з csv-файлу, який ми отримаємо по вищезазначеному url\n",
        "# Dataframe надасть нам необхідні можливості для обробки даних\n",
        "df = pd.read_csv(url)\n",
        "\n",
        "# відобразимо перші 5 записів у датафреймі (достатньо, щоб побачити структуру записів у ньому)\n",
        "df.head()"
      ],
      "execution_count": 0,
      "outputs": [
        {
          "output_type": "execute_result",
          "data": {
            "text/html": [
              "<div>\n",
              "<style scoped>\n",
              "    .dataframe tbody tr th:only-of-type {\n",
              "        vertical-align: middle;\n",
              "    }\n",
              "\n",
              "    .dataframe tbody tr th {\n",
              "        vertical-align: top;\n",
              "    }\n",
              "\n",
              "    .dataframe thead th {\n",
              "        text-align: right;\n",
              "    }\n",
              "</style>\n",
              "<table border=\"1\" class=\"dataframe\">\n",
              "  <thead>\n",
              "    <tr style=\"text-align: right;\">\n",
              "      <th></th>\n",
              "      <th>Date_Time</th>\n",
              "      <th>p_(mbar)</th>\n",
              "      <th>T_(degC)</th>\n",
              "      <th>Tpot_(K)</th>\n",
              "      <th>Tdew_(degC)</th>\n",
              "      <th>rh (%)</th>\n",
              "      <th>Vpmax_(mbar)</th>\n",
              "      <th>Vpact_(mbar)</th>\n",
              "      <th>Vpdef_(mbar)</th>\n",
              "      <th>sh_(g/kg)</th>\n",
              "      <th>H2OC_(mmol/mol)</th>\n",
              "      <th>rho_(g/m**3)</th>\n",
              "      <th>wv_(m/s)</th>\n",
              "      <th>max._wv_(m/s)</th>\n",
              "      <th>wd_(deg)</th>\n",
              "    </tr>\n",
              "  </thead>\n",
              "  <tbody>\n",
              "    <tr>\n",
              "      <th>0</th>\n",
              "      <td>01.01.2009 00:10:00</td>\n",
              "      <td>996.52</td>\n",
              "      <td>-8.02</td>\n",
              "      <td>265.40</td>\n",
              "      <td>-8.90</td>\n",
              "      <td>93.3</td>\n",
              "      <td>3.33</td>\n",
              "      <td>3.11</td>\n",
              "      <td>0.22</td>\n",
              "      <td>1.94</td>\n",
              "      <td>3.12</td>\n",
              "      <td>1307.75</td>\n",
              "      <td>1.03</td>\n",
              "      <td>1.75</td>\n",
              "      <td>152.3</td>\n",
              "    </tr>\n",
              "    <tr>\n",
              "      <th>1</th>\n",
              "      <td>01.01.2009 00:20:00</td>\n",
              "      <td>996.57</td>\n",
              "      <td>-8.41</td>\n",
              "      <td>265.01</td>\n",
              "      <td>-9.28</td>\n",
              "      <td>93.4</td>\n",
              "      <td>3.23</td>\n",
              "      <td>3.02</td>\n",
              "      <td>0.21</td>\n",
              "      <td>1.89</td>\n",
              "      <td>3.03</td>\n",
              "      <td>1309.80</td>\n",
              "      <td>0.72</td>\n",
              "      <td>1.50</td>\n",
              "      <td>136.1</td>\n",
              "    </tr>\n",
              "    <tr>\n",
              "      <th>2</th>\n",
              "      <td>01.01.2009 00:30:00</td>\n",
              "      <td>996.53</td>\n",
              "      <td>-8.51</td>\n",
              "      <td>264.91</td>\n",
              "      <td>-9.31</td>\n",
              "      <td>93.9</td>\n",
              "      <td>3.21</td>\n",
              "      <td>3.01</td>\n",
              "      <td>0.20</td>\n",
              "      <td>1.88</td>\n",
              "      <td>3.02</td>\n",
              "      <td>1310.24</td>\n",
              "      <td>0.19</td>\n",
              "      <td>0.63</td>\n",
              "      <td>171.6</td>\n",
              "    </tr>\n",
              "    <tr>\n",
              "      <th>3</th>\n",
              "      <td>01.01.2009 00:40:00</td>\n",
              "      <td>996.51</td>\n",
              "      <td>-8.31</td>\n",
              "      <td>265.12</td>\n",
              "      <td>-9.07</td>\n",
              "      <td>94.2</td>\n",
              "      <td>3.26</td>\n",
              "      <td>3.07</td>\n",
              "      <td>0.19</td>\n",
              "      <td>1.92</td>\n",
              "      <td>3.08</td>\n",
              "      <td>1309.19</td>\n",
              "      <td>0.34</td>\n",
              "      <td>0.50</td>\n",
              "      <td>198.0</td>\n",
              "    </tr>\n",
              "    <tr>\n",
              "      <th>4</th>\n",
              "      <td>01.01.2009 00:50:00</td>\n",
              "      <td>996.51</td>\n",
              "      <td>-8.27</td>\n",
              "      <td>265.15</td>\n",
              "      <td>-9.04</td>\n",
              "      <td>94.1</td>\n",
              "      <td>3.27</td>\n",
              "      <td>3.08</td>\n",
              "      <td>0.19</td>\n",
              "      <td>1.92</td>\n",
              "      <td>3.09</td>\n",
              "      <td>1309.00</td>\n",
              "      <td>0.32</td>\n",
              "      <td>0.63</td>\n",
              "      <td>214.3</td>\n",
              "    </tr>\n",
              "  </tbody>\n",
              "</table>\n",
              "</div>"
            ],
            "text/plain": [
              "             Date_Time  p_(mbar)  T_(degC)  ...  wv_(m/s)  max._wv_(m/s)  wd_(deg)\n",
              "0  01.01.2009 00:10:00    996.52     -8.02  ...      1.03           1.75     152.3\n",
              "1  01.01.2009 00:20:00    996.57     -8.41  ...      0.72           1.50     136.1\n",
              "2  01.01.2009 00:30:00    996.53     -8.51  ...      0.19           0.63     171.6\n",
              "3  01.01.2009 00:40:00    996.51     -8.31  ...      0.34           0.50     198.0\n",
              "4  01.01.2009 00:50:00    996.51     -8.27  ...      0.32           0.63     214.3\n",
              "\n",
              "[5 rows x 15 columns]"
            ]
          },
          "metadata": {
            "tags": []
          },
          "execution_count": 1
        }
      ]
    },
    {
      "cell_type": "markdown",
      "metadata": {
        "id": "1Mc7DE0RC5Qy",
        "colab_type": "text"
      },
      "source": [
        "# T-розподіл "
      ]
    },
    {
      "cell_type": "code",
      "metadata": {
        "id": "8TTMdfQHIB2Y",
        "colab_type": "code",
        "outputId": "2020b3b1-69b9-41f9-fef8-69f990cae125",
        "colab": {
          "base_uri": "https://localhost:8080/",
          "height": 360
        }
      },
      "source": [
        "#T-розподіл \n",
        "# import matplotlib.pyplot as plt\n",
        "from matplotlib import pyplot as plt\n",
        "import numpy as np\n",
        "from scipy import stats\n",
        "\n",
        "# Знаходимо мінімальне та максимальне значення в колонці \"Vpmax_(mbar)\"\n",
        "minValue = df['Vpmax_(mbar)'].min()\n",
        "maxValue = df['Vpmax_(mbar)'].max()\n",
        "\n",
        "#T-розподіл будемо виконувати від minValue до maxValue збільшуючи значення на 0.1\n",
        "x = np.arange(minValue,maxValue,0.1)\n",
        "\n",
        "\n",
        "tvals1 = stats.t.pdf(x,2)\n",
        "tvals2 = stats.t.pdf(x,30)\n",
        "\n",
        "plt.plot(x,tvals1,x,tvals2)\n",
        "plt.text(5,0.04,\"First\",color = \"red\")\n",
        "plt.annotate(\"Second\",xy=(1,0.25),xytext = (3,0.35),arrowprops=dict(facecolor=\"black\",shrink=0.025,width=1,headwidth=3),color=\"red\")"
      ],
      "execution_count": 0,
      "outputs": [
        {
          "output_type": "execute_result",
          "data": {
            "text/plain": [
              "Text(3, 0.35, 'Second')"
            ]
          },
          "metadata": {
            "tags": []
          },
          "execution_count": 37
        },
        {
          "output_type": "display_data",
          "data": {
            "image/png": "[encoded data removed]",
            "text/plain": [
              "<Figure size 432x288 with 1 Axes>"
            ]
          },
          "metadata": {
            "tags": []
          }
        }
      ]
    },
    {
      "cell_type": "markdown",
      "metadata": {
        "id": "5kaK_6PuCnCa",
        "colab_type": "text"
      },
      "source": [
        "# t - критерій Стьюдента"
      ]
    },
    {
      "cell_type": "code",
      "metadata": {
        "id": "uHlOxbjGvjsP",
        "colab_type": "code",
        "outputId": "ce0c5978-ee33-42b5-dca1-26e18498bd9c",
        "colab": {
          "base_uri": "https://localhost:8080/",
          "height": 350
        }
      },
      "source": [
        "import numpy as np\n",
        "from scipy.stats import t as student_t\n",
        "from matplotlib import pyplot as plt\n",
        "\n",
        "#------------------------------------------------------------\n",
        "# Define the distribution parameters to be plotted\n",
        "mu = 0\n",
        "k_values = [1E10, 2, 10, 30]\n",
        "linestyles = ['-', '--', ':', '-.']\n",
        "# x = np.linspace(-10, 10, 1000)\n",
        "minValue = df['Vpmax_(mbar)'].min()\n",
        "maxValue = df['Vpmax_(mbar)'].max()\n",
        "\n",
        "#T-розподіл будемо виконувати від minValue до maxValue збільшуючи значення на 0.1\n",
        "x = np.arange(minValue,maxValue,0.3)\n",
        "\n",
        "#------------------------------------------------------------\n",
        "# plot the distributions\n",
        "fig, ax = plt.subplots(figsize=(5, 3.75))\n",
        "\n",
        "for k, ls in zip(k_values, linestyles):\n",
        "    dist = student_t(k, 0)\n",
        "\n",
        "    if k >= 1E10:\n",
        "        label = r'$\\mathrm{t}(k=\\infty)$'\n",
        "    else:\n",
        "        label = r'$\\mathrm{t}(k=%.1f)$' % k\n",
        "\n",
        "    plt.plot(x, dist.pdf(x), ls=ls, c='green', label=label)\n",
        "\n",
        "plt.xlim(0, 8)\n",
        "plt.ylim(0.0, 0.30)\n",
        "\n",
        "plt.xlabel('$x$')\n",
        "plt.ylabel(r'$p(x|k)$')\n",
        "plt.title(\"Student's $t$ Distribution\")\n",
        "\n",
        "plt.legend()\n",
        "plt.show()"
      ],
      "execution_count": 0,
      "outputs": [
        {
          "output_type": "stream",
          "text": [
            "/usr/local/lib/python3.6/dist-packages/scipy/stats/_continuous_distns.py:5261: RuntimeWarning: overflow encountered in power\n",
            "  Px /= np.sqrt(r*np.pi)*(1+(x**2)/r)**((r+1)/2)\n",
            "/usr/local/lib/python3.6/dist-packages/scipy/stats/_continuous_distns.py:5261: RuntimeWarning: overflow encountered in multiply\n",
            "  Px /= np.sqrt(r*np.pi)*(1+(x**2)/r)**((r+1)/2)\n"
          ],
          "name": "stderr"
        },
        {
          "output_type": "display_data",
          "data": {
            "image/png": "[encoded data removed]",
            "text/plain": [
              "<Figure size 360x270 with 1 Axes>"
            ]
          },
          "metadata": {
            "tags": []
          }
        }
      ]
    },
    {
      "cell_type": "code",
      "metadata": {
        "id": "ahTHO1FX8uMv",
        "colab_type": "code",
        "outputId": "abaa2f53-ee4a-4805-ee40-c6800bcbcfcc",
        "colab": {
          "base_uri": "https://localhost:8080/",
          "height": 283
        }
      },
      "source": [
        " # import matplotlib.pyplot as plt\n",
        "from matplotlib import pyplot as plt\n",
        "import numpy as np\n",
        "from scipy import stats\n",
        "\n",
        "averageVpmax = df['Vpmax_(mbar)'].mean()\n",
        "averageTpot = df['Tpot_(K)'].mean()\n",
        "\n",
        "\n",
        "x = np.arange(averageVpmax,averageTpot,5)\n",
        "\n",
        "\n",
        "mu = 0\n",
        "k_values = [2, 30]\n",
        "linestyles = ['-', '--', ':', '-.']\n",
        "\n",
        "\n",
        "fig, ax = plt.subplots(figsize=(5, 3.75))\n",
        "\n",
        "for k, ls in zip(k_values, linestyles):\n",
        "    dist = student_t(k, 0)\n",
        "\n",
        "    if k >= 1E10:\n",
        "        label = r'$\\mathrm{t}(k=\\infty)$'\n",
        "    else:\n",
        "        label = r'$\\mathrm{t}(k=%.1f)$' % k\n",
        "\n",
        "    plt.plot(x, dist.pdf(x), ls=ls, c='blue', label=label)\n",
        "\n",
        "plt.xlim(10, 100)\n",
        "plt.ylim(0.0, 0.0008)\n",
        "\n",
        "plt.xlabel('$x$')\n",
        "plt.ylabel(r'$p(x|k)$')\n",
        "plt.title(\"Student's $t$ Distribution\")\n",
        "\n",
        "plt.legend()\n",
        "plt.show()"
      ],
      "execution_count": 0,
      "outputs": [
        {
          "output_type": "display_data",
          "data": {
            "image/png": "[encoded data removed]",
            "text/plain": [
              "<Figure size 360x270 with 1 Axes>"
            ]
          },
          "metadata": {
            "tags": []
          }
        }
      ]
    },
    {
      "cell_type": "markdown",
      "metadata": {
        "id": "UNOjRQVVCzci",
        "colab_type": "text"
      },
      "source": [
        "# QQ - plot"
      ]
    },
    {
      "cell_type": "code",
      "metadata": {
        "id": "r9U3RqH3-eTd",
        "colab_type": "code",
        "outputId": "1c453302-7424-4fd1-f5b6-8528f9296b38",
        "colab": {
          "base_uri": "https://localhost:8080/",
          "height": 279
        }
      },
      "source": [
        "import numpy as np \n",
        "import pylab \n",
        "import scipy.stats as stats\n",
        "from statsmodels.graphics.gofplots import qqplot\n",
        "from matplotlib import pyplot\n",
        "\n",
        "y = df['Vpmax_(mbar)'].tolist()\n",
        "\n",
        "X = np.array(y)\n",
        "\n",
        "#stats.probplot(y, dist=\"norm\", plot=pylab)\n",
        "\n",
        "qqplot(X,line='s')\n",
        "pyplot.show()"
      ],
      "execution_count": 0,
      "outputs": [
        {
          "output_type": "display_data",
          "data": {
            "image/png": "[encoded data removed]",
            "text/plain": [
              "<Figure size 432x288 with 1 Axes>"
            ]
          },
          "metadata": {
            "tags": []
          }
        }
      ]
    },
    {
      "cell_type": "markdown",
      "metadata": {
        "id": "vzz2URJjDeAE",
        "colab_type": "text"
      },
      "source": [
        "# ANOVA"
      ]
    },
    {
      "cell_type": "code",
      "metadata": {
        "id": "_PlTQr2d_Nht",
        "colab_type": "code",
        "outputId": "26c556ef-671f-496e-ee8b-a16e7b0798c9",
        "colab": {
          "base_uri": "https://localhost:8080/",
          "height": 34
        }
      },
      "source": [
        "import pandas as pd\n",
        "import scipy.stats as stats\n",
        "\n",
        "#Заміняємо NaN на 0.0\n",
        "df['Vpmax_(mbar)'].fillna(0.0,inplace=True)\n",
        "df['Tpot_(K)'].fillna(0.0,inplace=True)\n",
        "samples=[list(frame) for group,frame in df.groupby('Tpot_(K)')['Vpmax_(mbar)']]\n",
        "stats.f_oneway(*samples)\n",
        "#pvalue вийшло нульове тому що існує зв'язок між цими величинами і данних для порівняння досить багато"
      ],
      "execution_count": 0,
      "outputs": [
        {
          "output_type": "execute_result",
          "data": {
            "text/plain": [
              "F_onewayResult(statistic=4347.643879538278, pvalue=0.0)"
            ]
          },
          "metadata": {
            "tags": []
          },
          "execution_count": 78
        }
      ]
    },
    {
      "cell_type": "markdown",
      "metadata": {
        "id": "6mHNPmEqCaKC",
        "colab_type": "text"
      },
      "source": [
        "# T-test"
      ]
    },
    {
      "cell_type": "code",
      "metadata": {
        "id": "zyGRmhnR_mIj",
        "colab_type": "code",
        "outputId": "5bcd2412-3dae-488f-f652-03cddb55427a",
        "colab": {
          "base_uri": "https://localhost:8080/",
          "height": 34
        }
      },
      "source": [
        "#T-test\n",
        "from scipy.stats import ttest_ind\n",
        "\n",
        "cat1 = df[df['Vpmax_(mbar)']==4.7]\n",
        "cat2 = df[df['Vpmax_(mbar)']==4.3]\n",
        "\n",
        "ttest_ind(cat1['Vpmax_(mbar)'], cat2['Vpmax_(mbar)'])"
      ],
      "execution_count": 0,
      "outputs": [
        {
          "output_type": "execute_result",
          "data": {
            "text/plain": [
              "Ttest_indResult(statistic=1978767084319154.2, pvalue=0.0)"
            ]
          },
          "metadata": {
            "tags": []
          },
          "execution_count": 79
        }
      ]
    },
    {
      "cell_type": "markdown",
      "metadata": {
        "id": "p0GngATqCVj1",
        "colab_type": "text"
      },
      "source": [
        "# KS-test"
      ]
    },
    {
      "cell_type": "code",
      "metadata": {
        "id": "e_dz_p5h_0Gb",
        "colab_type": "code",
        "outputId": "2c0abac6-9f5c-4886-f141-ba5caded28e9",
        "colab": {
          "base_uri": "https://localhost:8080/",
          "height": 34
        }
      },
      "source": [
        "#KS-test\n",
        "from scipy.stats import ks_2samp\n",
        "import numpy as np\n",
        "\n",
        "x = df['Vpmax_(mbar)'].tolist()\n",
        "y = df['Tpot_(K)'].tolist()\n",
        "\n",
        "ks_2samp(x, y)"
      ],
      "execution_count": 0,
      "outputs": [
        {
          "output_type": "execute_result",
          "data": {
            "text/plain": [
              "Ks_2sampResult(statistic=1.0, pvalue=0.0)"
            ]
          },
          "metadata": {
            "tags": []
          },
          "execution_count": 83
        }
      ]
    },
    {
      "cell_type": "markdown",
      "metadata": {
        "id": "f4p6TrPuFxLE",
        "colab_type": "text"
      },
      "source": [
        "Чим ближче значення p до 0, тим більша ймовірність того, що два зразки були взяті з одного і того ж розподілу."
      ]
    },
    {
      "cell_type": "markdown",
      "metadata": {
        "id": "US0kIviUEtiC",
        "colab_type": "text"
      },
      "source": [
        "# Відповіді на запитання до теми \"ЕМПІ №6-7: Порівняння середніх v2019\"\n",
        "\n",
        "> 1.При порівнянні двох середніх використовується t-критерій Стьюдента. Метою його застосування є знаходження відмінності між двома середніми значеннями якоїсь вибірки.\n",
        "\n",
        "> При цих порівняннях застосоються такі бібліотеки Pyhon як: scipy, numpy."
      ]
    }
  ]
}